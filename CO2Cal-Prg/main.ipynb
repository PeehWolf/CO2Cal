{
 "cells": [
  {
   "cell_type": "code",
   "execution_count": 3,
   "metadata": {},
   "outputs": [
    {
     "ename": "ValueError",
     "evalue": "not enough values to unpack (expected 4, got 3)",
     "output_type": "error",
     "traceback": [
      "\u001b[1;31m---------------------------------------------------------------------------\u001b[0m",
      "\u001b[1;31mValueError\u001b[0m                                Traceback (most recent call last)",
      "Cell \u001b[1;32mIn[3], line 6\u001b[0m\n\u001b[0;32m      3\u001b[0m \u001b[39mimport\u001b[39;00m \u001b[39mdescartes\u001b[39;00m \n\u001b[0;32m      4\u001b[0m \u001b[39mimport\u001b[39;00m \u001b[39mmatplotlib\u001b[39;00m \n\u001b[1;32m----> 6\u001b[0m municipios, mesoregioes, microrregioes, analise \u001b[39m=\u001b[39m carregar_geodados()\n\u001b[0;32m      9\u001b[0m gdf_ms \u001b[39m=\u001b[39m municipios[municipios[\u001b[39m'\u001b[39m\u001b[39mNM_MUN\u001b[39m\u001b[39m'\u001b[39m] \u001b[39m==\u001b[39m \u001b[39m'\u001b[39m\u001b[39mCorumbá\u001b[39m\u001b[39m'\u001b[39m]\n\u001b[0;32m     11\u001b[0m area_delimitada \u001b[39m=\u001b[39m gdf_ms\u001b[39m.\u001b[39mtotal_bounds\n",
      "\u001b[1;31mValueError\u001b[0m: not enough values to unpack (expected 4, got 3)"
     ]
    }
   ],
   "source": [
    "import geopandas as gp\n",
    "from Geodata import carregar_geodados\n",
    "import descartes \n",
    "import matplotlib \n",
    "\n",
    "municipios, mesoregioes, microrregioes, analise = carregar_geodados()\n",
    "\n",
    "\n",
    "gdf_ms = municipios[municipios['NM_MUN'] == 'Corumbá']\n",
    "\n",
    "area_delimitada = gdf_ms.total_bounds\n",
    "\n",
    "geojson_data = analise\n",
    "geojson_within_area = geojson_data.cx[area_delimitada[0]: area_delimitada[2], area_delimitada[1]: area_delimitada[3]]\n",
    "\n",
    "ax = gdf_ms.plot(figsize=(8, 8), facecolor=\"white\", edgecolor=\"Black\", aspect = 1)\n",
    "geojson_within_area.plot(ax=ax, color='red')"
   ]
  },
  {
   "cell_type": "code",
   "execution_count": null,
   "metadata": {},
   "outputs": [],
   "source": []
  }
 ],
 "metadata": {
  "kernelspec": {
   "display_name": "Python 3",
   "language": "python",
   "name": "python3"
  },
  "language_info": {
   "codemirror_mode": {
    "name": "ipython",
    "version": 3
   },
   "file_extension": ".py",
   "mimetype": "text/x-python",
   "name": "python",
   "nbconvert_exporter": "python",
   "pygments_lexer": "ipython3",
   "version": "3.9.13"
  },
  "orig_nbformat": 4,
  "vscode": {
   "interpreter": {
    "hash": "0c880bf50398c9e6ebbd48c247ea31cff5c6f8ce48b9cfb1b78e929d6cc40437"
   }
  }
 },
 "nbformat": 4,
 "nbformat_minor": 2
}
