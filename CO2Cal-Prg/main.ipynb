{
 "cells": [
  {
   "cell_type": "code",
   "execution_count": 11,
   "metadata": {},
   "outputs": [
    {
     "ename": "ImportError",
     "evalue": "cannot import name 'plot_coordinates' from 'Kml' (c:\\Users\\USER\\Desktop\\Projetos\\PythonProjects\\TestProjects\\CO2Cal\\Kml.py)",
     "output_type": "error",
     "traceback": [
      "\u001b[1;31m---------------------------------------------------------------------------\u001b[0m",
      "\u001b[1;31mImportError\u001b[0m                               Traceback (most recent call last)",
      "Cell \u001b[1;32mIn[11], line 3\u001b[0m\n\u001b[0;32m      1\u001b[0m \u001b[39mimport\u001b[39;00m \u001b[39mgeopandas\u001b[39;00m \u001b[39mas\u001b[39;00m \u001b[39mgp\u001b[39;00m\n\u001b[0;32m      2\u001b[0m \u001b[39mfrom\u001b[39;00m \u001b[39mGeodata\u001b[39;00m \u001b[39mimport\u001b[39;00m carregar_geodados\n\u001b[1;32m----> 3\u001b[0m \u001b[39mfrom\u001b[39;00m \u001b[39mKml\u001b[39;00m \u001b[39mimport\u001b[39;00m plot_coordinates\n\u001b[0;32m      4\u001b[0m \u001b[39mimport\u001b[39;00m \u001b[39mdescartes\u001b[39;00m \n\u001b[0;32m      5\u001b[0m \u001b[39mimport\u001b[39;00m \u001b[39mmatplotlib\u001b[39;00m \n",
      "\u001b[1;31mImportError\u001b[0m: cannot import name 'plot_coordinates' from 'Kml' (c:\\Users\\USER\\Desktop\\Projetos\\PythonProjects\\TestProjects\\CO2Cal\\Kml.py)"
     ]
    }
   ],
   "source": [
    "import geopandas as gp\n",
    "from Geodata import carregar_geodados\n",
    "from Kml import plot_coordinates\n",
    "import descartes \n",
    "import matplotlib \n",
    "\n",
    "municipios, mesoregioes, microrregioes = carregar_geodados()\n",
    "\n",
    "analise = plot_coordinates\n",
    "\n",
    "gdf_ms = municipios[municipios['NM_MUN'] == 'Corumbá']\n",
    "\n",
    "area_delimitada = gdf_ms.total_bounds\n",
    "\n",
    "geojson_data = analise\n",
    "geojson_within_area = geojson_data.cx[area_delimitada[0]: area_delimitada[2], area_delimitada[1]: area_delimitada[3]]\n",
    "\n",
    "ax = gdf_ms.plot(figsize=(8, 8), facecolor=\"white\", edgecolor=\"Black\", aspect = 1)\n",
    "geojson_within_area.plot(ax=ax, color='red')"
   ]
  },
  {
   "cell_type": "code",
   "execution_count": null,
   "metadata": {},
   "outputs": [],
   "source": []
  }
 ],
 "metadata": {
  "kernelspec": {
   "display_name": "Python 3",
   "language": "python",
   "name": "python3"
  },
  "language_info": {
   "codemirror_mode": {
    "name": "ipython",
    "version": 3
   },
   "file_extension": ".py",
   "mimetype": "text/x-python",
   "name": "python",
   "nbconvert_exporter": "python",
   "pygments_lexer": "ipython3",
   "version": "3.9.13"
  },
  "orig_nbformat": 4,
  "vscode": {
   "interpreter": {
    "hash": "0c880bf50398c9e6ebbd48c247ea31cff5c6f8ce48b9cfb1b78e929d6cc40437"
   }
  }
 },
 "nbformat": 4,
 "nbformat_minor": 2
}
